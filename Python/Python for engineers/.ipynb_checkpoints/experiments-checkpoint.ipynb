{
 "cells": [
  {
   "cell_type": "code",
   "execution_count": 1,
   "id": "50c9ad43",
   "metadata": {},
   "outputs": [],
   "source": [
    "#some code here alalalalala"
   ]
  },
  {
   "cell_type": "markdown",
   "id": "c7bbc8f0",
   "metadata": {},
   "source": [
    "Edit with _Markdown_: $y = \\cos(4 \\pi \\exp(x))$"
   ]
  },
  {
   "cell_type": "code",
   "execution_count": null,
   "id": "8bc5a8d7",
   "metadata": {},
   "outputs": [],
   "source": []
  }
 ],
 "metadata": {
  "kernelspec": {
   "display_name": "Python 3 (ipykernel)",
   "language": "python",
   "name": "python3"
  },
  "language_info": {
   "codemirror_mode": {
    "name": "ipython",
    "version": 3
   },
   "file_extension": ".py",
   "mimetype": "text/x-python",
   "name": "python",
   "nbconvert_exporter": "python",
   "pygments_lexer": "ipython3",
   "version": "3.9.12"
  }
 },
 "nbformat": 4,
 "nbformat_minor": 5
}
